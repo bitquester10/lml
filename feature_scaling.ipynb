{
 "cells": [
  {
   "cell_type": "markdown",
   "id": "20883f9f",
   "metadata": {},
   "source": [
    "# Feature Scaling\n",
    "\n",
    "This notebook demonstrates the effect of feature scaling on the convergnce of gradient descent"
   ]
  },
  {
   "cell_type": "code",
   "execution_count": null,
   "id": "cb25501e",
   "metadata": {},
   "outputs": [],
   "source": [
    "import numpy as np\n",
    "import matplotlib.pyplot as plt"
   ]
  },
  {
   "cell_type": "code",
   "execution_count": null,
   "id": "041d221b",
   "metadata": {},
   "outputs": [],
   "source": [
    "# Use the normalised function to see the distribution of the different features.\n",
    "# Plot the distribution of the different features before and after normalisation.\n",
    "\n",
    "from gradient_descent import zscore_normalize_features, gradient_descent\n",
    "from house_price import generate_house_price_dataset\n",
    "\n",
    "X, y, feature_names = generate_house_price_dataset(n_samples=1000)\n",
    "X_norm, mu, sigma = zscore_normalize_features(X)\n",
    "plt.figure(figsize=(12, 8))\n",
    "plt.subplot(2, 3, 1)\n",
    "plt.plot(X[:, 0], X[:, 1], 'o')\n",
    "plt.xlabel(feature_names[0])\n",
    "plt.ylabel(feature_names[1])\n",
    "plt.subplot(2, 3, 2)\n",
    "plt.plot(X[:, 0], X[:, 2], 'o')\n",
    "plt.xlabel(feature_names[0])\n",
    "plt.ylabel(feature_names[2])\n",
    "plt.subplot(2, 3, 3)\n",
    "plt.plot(X[:, 0], X[:, 3], 'o')\n",
    "plt.xlabel(feature_names[0])\n",
    "plt.ylabel(feature_names[3])\n",
    "# Now plot with X_norm\n",
    "plt.subplot(2, 3, 4)\n",
    "plt.plot(X_norm[:, 0], X_norm[:, 1], 'ro')\n",
    "plt.xlabel(feature_names[0])\n",
    "plt.ylabel(feature_names[1])\n",
    "plt.subplot(2, 3, 5)\n",
    "plt.plot(X_norm[:, 0], X_norm[:, 2], 'ro')\n",
    "plt.xlabel(feature_names[0])\n",
    "plt.ylabel(feature_names[2])\n",
    "plt.subplot(2, 3, 6)\n",
    "plt.plot(X_norm[:, 0], X_norm[:, 3], 'ro')\n",
    "plt.xlabel(feature_names[0])\n",
    "plt.ylabel(feature_names[3])\n",
    "plt.show()\n",
    "\n"
   ]
  },
  {
   "cell_type": "code",
   "execution_count": null,
   "id": "299fee3f",
   "metadata": {},
   "outputs": [],
   "source": [
    "# Lets see how gradient descent converges without feature scaling. \n",
    "# The value of alpha (learning rate) has been chosen such that it does not cause the divergence in gradient\n",
    "# descent. See the example in learning_rate.ipynb \n",
    "# If you see \"overflow\" warnings, it means that gradient descent has divered to the extent that the cost is\n",
    "# becoming very large.\n",
    "\n",
    "alpha = 1e-2\n",
    "X, y, feature_names = generate_house_price_dataset(n_samples=1000)\n",
    "w_in = np.zeros(X.shape[1])\n",
    "b_in = 0\n",
    "w, b, cost_history, _, _ = gradient_descent(X, y, w_in, b_in, alpha, 1000)\n",
    "plt.plot(cost_history)\n",
    "plt.xlabel('Iteration')\n",
    "plt.ylabel('Cost')\n",
    "plt.title(f'Cost vs Iteration for alpha = {alpha}')\n",
    "plt.show()"
   ]
  },
  {
   "cell_type": "code",
   "execution_count": null,
   "id": "602609a0",
   "metadata": {},
   "outputs": [],
   "source": [
    "# Now do the same with feature scaling. See how it converges much faster.\n",
    "X, y, feature_names = generate_house_price_dataset(n_samples=1000)\n",
    "X_norm, mu, sigma = zscore_normalize_features(X)\n",
    "w_in = np.zeros(X.shape[1])\n",
    "b_in = 0\n",
    "w, b, cost_history, _, _ = gradient_descent(X_norm, y, w_in, b_in, alpha, 1000)\n",
    "plt.plot(cost_history)\n",
    "plt.xlabel('Iteration')\n",
    "plt.ylabel('Cost')\n",
    "plt.show()"
   ]
  },
  {
   "cell_type": "code",
   "execution_count": null,
   "id": "632df08d",
   "metadata": {},
   "outputs": [],
   "source": []
  }
 ],
 "metadata": {
  "kernelspec": {
   "display_name": "venv",
   "language": "python",
   "name": "python3"
  },
  "language_info": {
   "codemirror_mode": {
    "name": "ipython",
    "version": 3
   },
   "file_extension": ".py",
   "mimetype": "text/x-python",
   "name": "python",
   "nbconvert_exporter": "python",
   "pygments_lexer": "ipython3",
   "version": "3.13.5"
  }
 },
 "nbformat": 4,
 "nbformat_minor": 5
}
