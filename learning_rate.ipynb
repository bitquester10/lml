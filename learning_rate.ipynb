{
 "cells": [
  {
   "cell_type": "markdown",
   "id": "604573fd",
   "metadata": {},
   "source": [
    "# Learning Rate\n",
    "\n",
    "In this notebook, we will explore the effect of learning rate on the performance of gradient descent."
   ]
  },
  {
   "cell_type": "code",
   "execution_count": null,
   "id": "b21c6f67",
   "metadata": {},
   "outputs": [],
   "source": [
    "import numpy as np\n",
    "import matplotlib.pyplot as plt\n",
    "from gradient_descent import gradient_descent, zscore_normalize_features\n",
    "from house_price import generate_house_price_dataset\n",
    "\n",
    "# Run gradient descent with two different values of learning rates. A large one and a small one.\n",
    "# Plot the cost vs iteration graph for both the cases.\n",
    "\n",
    "alpha = 2\n",
    "X, y, feature_names = generate_house_price_dataset(n_samples=1000)\n",
    "X_norm, mu, sigma = zscore_normalize_features(X)\n",
    "w_in = np.zeros(X.shape[1])\n",
    "b_in = 0\n",
    "w, b, cost_history, _, _ = gradient_descent(X_norm, y, w_in, b_in, alpha, 1000)\n",
    "plt.subplot(1, 2, 1)\n",
    "plt.plot(cost_history)\n",
    "plt.xlabel('Iteration')\n",
    "plt.ylabel('Cost')\n",
    "plt.title(f'Cost vs Iteration for alpha = {alpha}')\n",
    "\n",
    "alpha = 1e-2\n",
    "w, b, cost_history, _, _ = gradient_descent(X_norm, y, w_in, b_in, alpha, 1000)\n",
    "plt.subplot(1, 2, 2)\n",
    "plt.plot(cost_history)\n",
    "plt.xlabel('Iteration')\n",
    "plt.ylabel('Cost')\n",
    "plt.title(f'Cost vs Iteration for alpha = {alpha}')\n",
    "plt.show()"
   ]
  }
 ],
 "metadata": {
  "kernelspec": {
   "display_name": "venv",
   "language": "python",
   "name": "python3"
  },
  "language_info": {
   "codemirror_mode": {
    "name": "ipython",
    "version": 3
   },
   "file_extension": ".py",
   "mimetype": "text/x-python",
   "name": "python",
   "nbconvert_exporter": "python",
   "pygments_lexer": "ipython3",
   "version": "3.13.5"
  }
 },
 "nbformat": 4,
 "nbformat_minor": 5
}
